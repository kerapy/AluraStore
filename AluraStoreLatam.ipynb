{
  "cells": [
    {
      "cell_type": "markdown",
      "metadata": {
        "id": "RhEdWd9YUR6H"
      },
      "source": [
        "### Importación de datos\n",
        "\n"
      ]
    },
    {
      "cell_type": "code",
      "execution_count": 1,
      "metadata": {
        "colab": {
          "base_uri": "https://localhost:8080/",
          "height": 206
        },
        "id": "T3EvaeQ_INIL",
        "outputId": "e9c5efe1-82a3-43ab-e8d7-6d01e4fa3514"
      },
      "outputs": [
        {
          "data": {
            "application/vnd.microsoft.datawrangler.viewer.v0+json": {
              "columns": [
                {
                  "name": "index",
                  "rawType": "int64",
                  "type": "integer"
                },
                {
                  "name": "Producto",
                  "rawType": "object",
                  "type": "string"
                },
                {
                  "name": "Categoría del Producto",
                  "rawType": "object",
                  "type": "string"
                },
                {
                  "name": "Precio",
                  "rawType": "float64",
                  "type": "float"
                },
                {
                  "name": "Costo de envío",
                  "rawType": "float64",
                  "type": "float"
                },
                {
                  "name": "Fecha de Compra",
                  "rawType": "object",
                  "type": "string"
                },
                {
                  "name": "Vendedor",
                  "rawType": "object",
                  "type": "string"
                },
                {
                  "name": "Lugar de Compra",
                  "rawType": "object",
                  "type": "string"
                },
                {
                  "name": "Calificación",
                  "rawType": "int64",
                  "type": "integer"
                },
                {
                  "name": "Método de pago",
                  "rawType": "object",
                  "type": "string"
                },
                {
                  "name": "Cantidad de cuotas",
                  "rawType": "int64",
                  "type": "integer"
                },
                {
                  "name": "lat",
                  "rawType": "float64",
                  "type": "float"
                },
                {
                  "name": "lon",
                  "rawType": "float64",
                  "type": "float"
                }
              ],
              "ref": "4b5deaaf-06c9-44f4-b7c2-9f824d5d3cae",
              "rows": [
                [
                  "0",
                  "Asistente virtual",
                  "Electrónicos",
                  "164300.0",
                  "6900.0",
                  "16/01/2021",
                  "Pedro Gomez",
                  "Bogotá",
                  "4",
                  "Tarjeta de crédito",
                  "8",
                  "4.60971",
                  "-74.08175"
                ],
                [
                  "1",
                  "Mesa de comedor",
                  "Muebles",
                  "192300.0",
                  "8400.0",
                  "18/05/2022",
                  "Beatriz Morales",
                  "Medellín",
                  "1",
                  "Tarjeta de crédito",
                  "4",
                  "6.25184",
                  "-75.56359"
                ],
                [
                  "2",
                  "Juego de mesa",
                  "Juguetes",
                  "209600.0",
                  "15900.0",
                  "15/03/2021",
                  "Juan Fernandez",
                  "Cartagena",
                  "1",
                  "Tarjeta de crédito",
                  "1",
                  "10.39972",
                  "-75.51444"
                ],
                [
                  "3",
                  "Microondas",
                  "Electrodomésticos",
                  "757500.0",
                  "41000.0",
                  "03/05/2022",
                  "Juan Fernandez",
                  "Cali",
                  "4",
                  "Nequi",
                  "1",
                  "3.43722",
                  "-76.5225"
                ],
                [
                  "4",
                  "Silla de oficina",
                  "Muebles",
                  "335200.0",
                  "20200.0",
                  "07/11/2020",
                  "Maria Alfonso",
                  "Medellín",
                  "5",
                  "Nequi",
                  "1",
                  "6.25184",
                  "-75.56359"
                ]
              ],
              "shape": {
                "columns": 12,
                "rows": 5
              }
            },
            "text/html": [
              "<div>\n",
              "<style scoped>\n",
              "    .dataframe tbody tr th:only-of-type {\n",
              "        vertical-align: middle;\n",
              "    }\n",
              "\n",
              "    .dataframe tbody tr th {\n",
              "        vertical-align: top;\n",
              "    }\n",
              "\n",
              "    .dataframe thead th {\n",
              "        text-align: right;\n",
              "    }\n",
              "</style>\n",
              "<table border=\"1\" class=\"dataframe\">\n",
              "  <thead>\n",
              "    <tr style=\"text-align: right;\">\n",
              "      <th></th>\n",
              "      <th>Producto</th>\n",
              "      <th>Categoría del Producto</th>\n",
              "      <th>Precio</th>\n",
              "      <th>Costo de envío</th>\n",
              "      <th>Fecha de Compra</th>\n",
              "      <th>Vendedor</th>\n",
              "      <th>Lugar de Compra</th>\n",
              "      <th>Calificación</th>\n",
              "      <th>Método de pago</th>\n",
              "      <th>Cantidad de cuotas</th>\n",
              "      <th>lat</th>\n",
              "      <th>lon</th>\n",
              "    </tr>\n",
              "  </thead>\n",
              "  <tbody>\n",
              "    <tr>\n",
              "      <th>0</th>\n",
              "      <td>Asistente virtual</td>\n",
              "      <td>Electrónicos</td>\n",
              "      <td>164300.0</td>\n",
              "      <td>6900.0</td>\n",
              "      <td>16/01/2021</td>\n",
              "      <td>Pedro Gomez</td>\n",
              "      <td>Bogotá</td>\n",
              "      <td>4</td>\n",
              "      <td>Tarjeta de crédito</td>\n",
              "      <td>8</td>\n",
              "      <td>4.60971</td>\n",
              "      <td>-74.08175</td>\n",
              "    </tr>\n",
              "    <tr>\n",
              "      <th>1</th>\n",
              "      <td>Mesa de comedor</td>\n",
              "      <td>Muebles</td>\n",
              "      <td>192300.0</td>\n",
              "      <td>8400.0</td>\n",
              "      <td>18/05/2022</td>\n",
              "      <td>Beatriz Morales</td>\n",
              "      <td>Medellín</td>\n",
              "      <td>1</td>\n",
              "      <td>Tarjeta de crédito</td>\n",
              "      <td>4</td>\n",
              "      <td>6.25184</td>\n",
              "      <td>-75.56359</td>\n",
              "    </tr>\n",
              "    <tr>\n",
              "      <th>2</th>\n",
              "      <td>Juego de mesa</td>\n",
              "      <td>Juguetes</td>\n",
              "      <td>209600.0</td>\n",
              "      <td>15900.0</td>\n",
              "      <td>15/03/2021</td>\n",
              "      <td>Juan Fernandez</td>\n",
              "      <td>Cartagena</td>\n",
              "      <td>1</td>\n",
              "      <td>Tarjeta de crédito</td>\n",
              "      <td>1</td>\n",
              "      <td>10.39972</td>\n",
              "      <td>-75.51444</td>\n",
              "    </tr>\n",
              "    <tr>\n",
              "      <th>3</th>\n",
              "      <td>Microondas</td>\n",
              "      <td>Electrodomésticos</td>\n",
              "      <td>757500.0</td>\n",
              "      <td>41000.0</td>\n",
              "      <td>03/05/2022</td>\n",
              "      <td>Juan Fernandez</td>\n",
              "      <td>Cali</td>\n",
              "      <td>4</td>\n",
              "      <td>Nequi</td>\n",
              "      <td>1</td>\n",
              "      <td>3.43722</td>\n",
              "      <td>-76.52250</td>\n",
              "    </tr>\n",
              "    <tr>\n",
              "      <th>4</th>\n",
              "      <td>Silla de oficina</td>\n",
              "      <td>Muebles</td>\n",
              "      <td>335200.0</td>\n",
              "      <td>20200.0</td>\n",
              "      <td>07/11/2020</td>\n",
              "      <td>Maria Alfonso</td>\n",
              "      <td>Medellín</td>\n",
              "      <td>5</td>\n",
              "      <td>Nequi</td>\n",
              "      <td>1</td>\n",
              "      <td>6.25184</td>\n",
              "      <td>-75.56359</td>\n",
              "    </tr>\n",
              "  </tbody>\n",
              "</table>\n",
              "</div>"
            ],
            "text/plain": [
              "            Producto Categoría del Producto    Precio  Costo de envío  \\\n",
              "0  Asistente virtual           Electrónicos  164300.0          6900.0   \n",
              "1    Mesa de comedor                Muebles  192300.0          8400.0   \n",
              "2      Juego de mesa               Juguetes  209600.0         15900.0   \n",
              "3         Microondas      Electrodomésticos  757500.0         41000.0   \n",
              "4   Silla de oficina                Muebles  335200.0         20200.0   \n",
              "\n",
              "  Fecha de Compra         Vendedor Lugar de Compra  Calificación  \\\n",
              "0      16/01/2021      Pedro Gomez          Bogotá             4   \n",
              "1      18/05/2022  Beatriz Morales        Medellín             1   \n",
              "2      15/03/2021   Juan Fernandez       Cartagena             1   \n",
              "3      03/05/2022   Juan Fernandez            Cali             4   \n",
              "4      07/11/2020    Maria Alfonso        Medellín             5   \n",
              "\n",
              "       Método de pago  Cantidad de cuotas       lat       lon  \n",
              "0  Tarjeta de crédito                   8   4.60971 -74.08175  \n",
              "1  Tarjeta de crédito                   4   6.25184 -75.56359  \n",
              "2  Tarjeta de crédito                   1  10.39972 -75.51444  \n",
              "3               Nequi                   1   3.43722 -76.52250  \n",
              "4               Nequi                   1   6.25184 -75.56359  "
            ]
          },
          "execution_count": 1,
          "metadata": {},
          "output_type": "execute_result"
        }
      ],
      "source": [
        "import pandas as pd\n",
        "\n",
        "url = \"https://raw.githubusercontent.com/alura-es-cursos/challenge1-data-science-latam/refs/heads/main/base-de-datos-challenge1-latam/tienda_1%20.csv\"\n",
        "url2 = \"https://raw.githubusercontent.com/alura-es-cursos/challenge1-data-science-latam/refs/heads/main/base-de-datos-challenge1-latam/tienda_2.csv\"\n",
        "url3 = \"https://raw.githubusercontent.com/alura-es-cursos/challenge1-data-science-latam/refs/heads/main/base-de-datos-challenge1-latam/tienda_3.csv\"\n",
        "url4 = \"https://raw.githubusercontent.com/alura-es-cursos/challenge1-data-science-latam/refs/heads/main/base-de-datos-challenge1-latam/tienda_4.csv\"\n",
        "\n",
        "tienda = pd.read_csv(url)\n",
        "tienda2 = pd.read_csv(url2)\n",
        "tienda3 = pd.read_csv(url3)\n",
        "tienda4 = pd.read_csv(url4)\n",
        "\n",
        "tienda.head()"
      ]
    },
    {
      "cell_type": "markdown",
      "metadata": {
        "id": "X62IW3KFUIYm"
      },
      "source": [
        "# 1. Análisis de facturación\n",
        "\n"
      ]
    },
    {
      "cell_type": "code",
      "execution_count": 7,
      "metadata": {
        "id": "xykobSftV64I"
      },
      "outputs": [
        {
          "name": "stdout",
          "output_type": "stream",
          "text": [
            "La facturacion total de la tienda es: 1150880400.0\n",
            "\n",
            "La facturacion total de la tienda 2 es: 1116343500.0\n",
            "\n",
            "La facturacion total de la tienda 3 es: 1098019600.0\n",
            "\n",
            "La facturacion total de la tienda 4 es: 1038375700.0\n",
            "\n"
          ]
        }
      ],
      "source": [
        "#Para saber cuanto facturo en total cada tienda debemos sumar la de precio y costo de envio\n",
        "facturacion_total_tienda = tienda['Precio'].sum() \n",
        "facturacion_total_tienda2 = tienda2['Precio'].sum() \n",
        "facturacion_total_tienda3 = tienda3['Precio'].sum() \n",
        "facturacion_total_tienda4 = tienda4['Precio'].sum() \n",
        "\n",
        "print(f'La facturacion total de la tienda es: {facturacion_total_tienda}\\n')\n",
        "print(f'La facturacion total de la tienda 2 es: {facturacion_total_tienda2}\\n')\n",
        "print(f'La facturacion total de la tienda 3 es: {facturacion_total_tienda3}\\n')\n",
        "print(f'La facturacion total de la tienda 4 es: {facturacion_total_tienda4}\\n')\n"
      ]
    },
    {
      "cell_type": "markdown",
      "metadata": {},
      "source": [
        "La tienda con menor facturacion es la tienda 4 y la tienda con mayor facturacion es la tienda 1"
      ]
    },
    {
      "cell_type": "markdown",
      "metadata": {
        "id": "2V_vcAPzWZmR"
      },
      "source": [
        "# 2. Ventas por categoría"
      ]
    },
    {
      "cell_type": "code",
      "execution_count": 15,
      "metadata": {
        "id": "A34YupIuYhfF"
      },
      "outputs": [
        {
          "name": "stdout",
          "output_type": "stream",
          "text": [
            "Tienda: Categoría del Producto\n",
            "Muebles                    465\n",
            "Electrónicos               448\n",
            "Juguetes                   324\n",
            "Electrodomésticos          312\n",
            "Deportes y diversión       284\n",
            "Instrumentos musicales     182\n",
            "Libros                     173\n",
            "Artículos para el hogar    171\n",
            "Name: count, dtype: int64\n",
            "\n",
            "Tienda 2: Categoría del Producto\n",
            "Muebles                    442\n",
            "Electrónicos               422\n",
            "Juguetes                   313\n",
            "Electrodomésticos          305\n",
            "Deportes y diversión       275\n",
            "Instrumentos musicales     224\n",
            "Libros                     197\n",
            "Artículos para el hogar    181\n",
            "Name: count, dtype: int64\n",
            "\n",
            "Tienda 3: Categoría del Producto\n",
            "Muebles                    499\n",
            "Electrónicos               451\n",
            "Juguetes                   315\n",
            "Electrodomésticos          278\n",
            "Deportes y diversión       277\n",
            "Libros                     185\n",
            "Artículos para el hogar    177\n",
            "Instrumentos musicales     177\n",
            "Name: count, dtype: int64\n",
            "\n",
            "Tienda 4: Categoría del Producto\n",
            "Muebles                    480\n",
            "Electrónicos               451\n",
            "Juguetes                   338\n",
            "Deportes y diversión       277\n",
            "Electrodomésticos          254\n",
            "Artículos para el hogar    201\n",
            "Libros                     187\n",
            "Instrumentos musicales     170\n",
            "Name: count, dtype: int64\n",
            "\n"
          ]
        }
      ],
      "source": [
        "venta_por_categoria_total = tienda.value_counts(\"Categoría del Producto\")\n",
        "print(f\"Tienda: {venta_por_categoria_total}\\n\")\n",
        "venta_por_categoria_total2 = tienda2.value_counts(\"Categoría del Producto\")\n",
        "print(f\"Tienda 2: {venta_por_categoria_total2}\\n\")\n",
        "venta_por_categoria_total3 = tienda3.value_counts(\"Categoría del Producto\")\n",
        "print(f\"Tienda 3: {venta_por_categoria_total3}\\n\")\n",
        "venta_por_categoria_total4 = tienda4.value_counts(\"Categoría del Producto\")\n",
        "print(f\"Tienda 4: {venta_por_categoria_total4}\\n\")"
      ]
    },
    {
      "cell_type": "markdown",
      "metadata": {
        "id": "Rq6tU_xSY3jk"
      },
      "source": [
        "# 3. Calificación promedio de la tienda\n"
      ]
    },
    {
      "cell_type": "code",
      "execution_count": 18,
      "metadata": {
        "id": "bh3jjjJwY5MU"
      },
      "outputs": [
        {
          "name": "stdout",
          "output_type": "stream",
          "text": [
            "La calificacion promedio de la tienda es: 3.98\n",
            "\n",
            "La calificacion promedio de la tienda 2 es: 4.04\n",
            "\n",
            "La calificacion promedio de la tienda 3 es: 4.05\n",
            "\n",
            "La calificacion promedio de la tienda 4 es: 4.00\n",
            "\n"
          ]
        }
      ],
      "source": [
        "calificacion_tienda = tienda['Calificación'].mean()\n",
        "calificacion_tienda2 = tienda2['Calificación'].mean()\n",
        "calificacion_tienda3 = tienda3['Calificación'].mean()\n",
        "calificacion_tienda4 = tienda4['Calificación'].mean()\n",
        "print(f\"La calificacion promedio de la tienda es: {calificacion_tienda:.2f}\\n\")\n",
        "print(f\"La calificacion promedio de la tienda 2 es: {calificacion_tienda2:.2f}\\n\")\n",
        "print(f\"La calificacion promedio de la tienda 3 es: {calificacion_tienda3:.2f}\\n\")\n",
        "print(f\"La calificacion promedio de la tienda 4 es: {calificacion_tienda4:.2f}\\n\")"
      ]
    },
    {
      "cell_type": "markdown",
      "metadata": {},
      "source": [
        "La tienda que tiene mayor calificacion promedio es la tienda 3"
      ]
    },
    {
      "cell_type": "markdown",
      "metadata": {
        "id": "DmNp1KPBZCm-"
      },
      "source": [
        "# 4. Productos más y menos vendidos"
      ]
    },
    {
      "cell_type": "code",
      "execution_count": 49,
      "metadata": {
        "id": "qoyjqijQZHfF"
      },
      "outputs": [
        {
          "name": "stdout",
          "output_type": "stream",
          "text": [
            "El producto mas vendido de la tienda es: TV LED UHD 4K con 60 unidades\n",
            "El producto mas vendido de la tienda 2 es: Iniciando en programación con 65 unidades\n",
            "El producto mas vendido de la tienda 3 es: Kit de bancas con 57 unidades\n",
            "El producto mas vendido de la tienda 4 es: Cama box con 62 unidades\n"
          ]
        }
      ],
      "source": [
        "#Productos mas vendidos\n",
        "prod_mas_tienda = tienda.value_counts(\"Producto\").idxmax()\n",
        "prod_mas_tienda2 = tienda2.value_counts(\"Producto\").idxmax()\n",
        "prod_mas_tienda3 = tienda3.value_counts(\"Producto\").idxmax()\n",
        "prod_mas_tienda4 = tienda4.value_counts(\"Producto\").idxmax()\n",
        "print(f\"El producto mas vendido de la tienda es: {prod_mas_tienda} con {tienda.value_counts(\"Producto\").max()} unidades\")\n",
        "print(f\"El producto mas vendido de la tienda 2 es: {prod_mas_tienda2} con {tienda2.value_counts(\"Producto\").max()} unidades\")\n",
        "print(f\"El producto mas vendido de la tienda 3 es: {prod_mas_tienda3} con {tienda3.value_counts(\"Producto\").max()} unidades\")\n",
        "print(f\"El producto mas vendido de la tienda 4 es: {prod_mas_tienda4} con {tienda4.value_counts(\"Producto\").max()} unidades\")"
      ]
    },
    {
      "cell_type": "code",
      "execution_count": 50,
      "metadata": {
        "id": "0Sw3sd4IZIGW"
      },
      "outputs": [
        {
          "name": "stdout",
          "output_type": "stream",
          "text": [
            "El producto menos vendido de la tienda es: Auriculares con micrófono con 33 unidades\n",
            "El producto menos vendido de la tienda 2 es: Juego de mesa con 32 unidades\n",
            "El producto menos vendido de la tienda 3 es: Bloques de construcción con 35 unidades\n",
            "El producto menos vendido de la tienda 4 es: Guitarra eléctrica con 33 unidades\n"
          ]
        }
      ],
      "source": [
        "#Productos menos vendidos\n",
        "prod_mas_tienda = tienda.value_counts(\"Producto\").idxmin()\n",
        "prod_mas_tienda2 = tienda2.value_counts(\"Producto\").idxmin()\n",
        "prod_mas_tienda3 = tienda3.value_counts(\"Producto\").idxmin()\n",
        "prod_mas_tienda4 = tienda4.value_counts(\"Producto\").idxmin()\n",
        "print(f\"El producto menos vendido de la tienda es: {prod_mas_tienda} con {tienda.value_counts(\"Producto\").min()} unidades\")\n",
        "print(f\"El producto menos vendido de la tienda 2 es: {prod_mas_tienda2} con {tienda2.value_counts(\"Producto\").min()} unidades\")\n",
        "print(f\"El producto menos vendido de la tienda 3 es: {prod_mas_tienda3} con {tienda3.value_counts(\"Producto\").min()} unidades\")\n",
        "print(f\"El producto menos vendido de la tienda 4 es: {prod_mas_tienda4} con {tienda4.value_counts(\"Producto\").min()} unidades\")"
      ]
    },
    {
      "cell_type": "markdown",
      "metadata": {
        "id": "Fl0cGi3bZKqU"
      },
      "source": [
        "# 5. Envío promedio por tienda"
      ]
    },
    {
      "cell_type": "code",
      "execution_count": 26,
      "metadata": {
        "id": "S2JeaCykZNy9"
      },
      "outputs": [
        {
          "name": "stdout",
          "output_type": "stream",
          "text": [
            "El costo promedio de envio de la tienda es: 26018.61\n",
            "\n",
            "El costo promedio de envio de la tienda 2 es: 25216.24\n",
            "\n",
            "El costo promedio de envio de la tienda 3 es: 24805.68\n",
            "\n",
            "El costo promedio de envio de la tienda 4 es: 23459.46\n",
            "\n"
          ]
        }
      ],
      "source": [
        "promedio_envio_tienda = tienda['Costo de envío'].mean()\n",
        "promedio_envio_tienda2 = tienda2['Costo de envío'].mean()\n",
        "promedio_envio_tienda3 = tienda3['Costo de envío'].mean()\n",
        "promedio_envio_tienda4 = tienda4['Costo de envío'].mean()\n",
        "print(f\"El costo promedio de envio de la tienda es: {promedio_envio_tienda:.2f}\\n\")\n",
        "print(f\"El costo promedio de envio de la tienda 2 es: {promedio_envio_tienda2:.2f}\\n\")\n",
        "print(f\"El costo promedio de envio de la tienda 3 es: {promedio_envio_tienda3:.2f}\\n\")\n",
        "print(f\"El costo promedio de envio de la tienda 4 es: {promedio_envio_tienda4:.2f}\\n\")"
      ]
    },
    {
      "cell_type": "markdown",
      "metadata": {},
      "source": [
        "La tienda con mayor costo promedio de envio es la tienda 2"
      ]
    },
    {
      "cell_type": "code",
      "execution_count": 46,
      "metadata": {
        "id": "0tSdCie9ZQlt"
      },
      "outputs": [
        {
          "data": {
            "image/png": "[encoded data removed]",
            "text/plain": [
              "<Figure size 640x480 with 1 Axes>"
            ]
          },
          "metadata": {},
          "output_type": "display_data"
        }
      ],
      "source": [
        "#Grafico de lineas de facturacion total por tienda\n",
        "import matplotlib.pyplot as plt\n",
        "facturacion = [facturacion_total_tienda, facturacion_total_tienda2, facturacion_total_tienda3, facturacion_total_tienda4]\n",
        "nombre_tiendas = ['Tienda', 'Tienda 2', 'Tienda 3', 'Tienda 4']\n",
        "plt.plot(nombre_tiendas, facturacion, color = 'purple')\n",
        "plt.title(\"Facturacion total por tienda\")\n",
        "plt.xlabel('tienda')\n",
        "plt.ylabel('facturacion')\n",
        "plt.show()"
      ]
    },
    {
      "cell_type": "code",
      "execution_count": null,
      "metadata": {},
      "outputs": [
        {
          "data": {
            "image/png": "[encoded data removed]",
            "text/plain": [
              "<Figure size 640x480 with 1 Axes>"
            ]
          },
          "metadata": {},
          "output_type": "display_data"
        }
      ],
      "source": [
        "# 3. Gráfico de pastel: Calificación promedio por tienda\n",
        "promedio_tiendas = [promedio_envio_tienda, promedio_envio_tienda2, promedio_envio_tienda3, promedio_envio_tienda4]\n",
        "nombre_tiendas = ['Tienda', 'Tienda 2', 'Tienda 3', 'Tienda 4']\n",
        "plt.pie(promedio_tiendas, labels=nombre_tiendas, autopct='%1.2f%%')\n",
        "plt.title(\"Promedio de envio de tiendas\")\n",
        "plt.show()"
      ]
    },
    {
      "cell_type": "code",
      "execution_count": null,
      "metadata": {},
      "outputs": [
        {
          "data": {
            "image/png": "[encoded data removed]",
            "text/plain": [
              "<Figure size 640x480 with 1 Axes>"
            ]
          },
          "metadata": {},
          "output_type": "display_data"
        }
      ],
      "source": [
        "import matplotlib.pyplot as plt\n",
        "import numpy as np\n",
        "\n",
        "\n",
        "categorias = set(tienda['Categoría del Producto']).union(\n",
        "    tienda2['Categoría del Producto'],\n",
        "    tienda3['Categoría del Producto'],\n",
        "    tienda4['Categoría del Producto']\n",
        ")\n",
        "\n",
        "categorias = sorted(list(categorias))\n",
        "\n",
        "ventas1 = [tienda['Categoría del Producto'].value_counts().get(cat, 0) for cat in categorias]\n",
        "ventas2 = [tienda2['Categoría del Producto'].value_counts().get(cat, 0) for cat in categorias]\n",
        "ventas3 = [tienda3['Categoría del Producto'].value_counts().get(cat, 0) for cat in categorias]\n",
        "ventas4 = [tienda4['Categoría del Producto'].value_counts().get(cat, 0) for cat in categorias]\n",
        "\n",
        "x = np.arange(len(categorias))\n",
        "width = 0.2\n",
        "\n",
        "plt.bar(x - 1.5*width, ventas1, width, label='Tienda 1')\n",
        "plt.bar(x - 0.5*width, ventas2, width, label='Tienda 2')\n",
        "plt.bar(x + 0.5*width, ventas3, width, label='Tienda 3')\n",
        "plt.bar(x + 1.5*width, ventas4, width, label='Tienda 4')\n",
        "\n",
        "plt.xlabel('Categoría')\n",
        "plt.ylabel('Cantidad de ventas')\n",
        "plt.title('Ventas por Categoría en las 4 Tiendas')\n",
        "plt.xticks(x, categorias, rotation=45)\n",
        "plt.legend()\n",
        "plt.tight_layout()\n",
        "plt.show()"
      ]
    },
    {
      "cell_type": "markdown",
      "metadata": {},
      "source": [
        "### Conclusion\n"
      ]
    },
    {
      "cell_type": "markdown",
      "metadata": {},
      "source": [
        "1. Facturacion total:  \n",
        "Segun el grafico la Tienda 1 es la tienda con mayor facturacion y la tienda 4 es la tienda con menor facturacion.  \n",
        "\n",
        "2. Categoria de productos mas y menos vendidos\n",
        "En todas las tiendas el producto mas vendido fue los muebles, y dentro de esta la que menos muebles vendio fue la tienda 2  \n",
        "En las tiendas 1 y 2 el articulo menos vendido son los articulos para el hogar y en las tiendas 3 y 4 intrumentos musicales  \n",
        "\n",
        "3. Calificaciones promedio  \n",
        "La tienda con menor calificaciones la tienda 4  \n",
        "\n",
        "4. Productos mas y menos vendidos  \n",
        "El producto mas vendido de la tienda es: TV LED UHD 4K con 60 unidades  \n",
        "El producto mas vendido de la tienda 2 es: Iniciando en programación con 65 unidades  \n",
        "El producto mas vendido de la tienda 3 es: Kit de bancas con 57 unidades  \n",
        "El producto mas vendido de la tienda 4 es: Cama box con 62 unidades  \n",
        "El producto menos vendido de la tienda es: Auriculares con micrófono con 33 unidades  \n",
        "El producto menos vendido de la tienda 2 es: Juego de mesa con 32 unidades  \n",
        "El producto menos vendido de la tienda 3 es: Bloques de construcción con 35 unidades  \n",
        "El producto menos vendido de la tienda 4 es: Guitarra eléctrica con 33 unidades  \n",
        "\n",
        "5. Costo de envio promedio  \n",
        "La tienda con menor costo de envio promedio es la tienda 3  \n",
        "\n",
        "Con todos estos valores se llega a la conclusion de que la tienda 4 es la que deberia ser vendida, pues la que tiene menor facturacion y menor calificacion. En cuanto al nivel de productos mas vendidos se encuentra en un buen rango pero pesa mas que no tenga buena facturacion ni satisfaccion de los clientes"
      ]
    }
  ],
  "metadata": {
    "colab": {
      "provenance": []
    },
    "kernelspec": {
      "display_name": "base",
      "language": "python",
      "name": "python3"
    },
    "language_info": {
      "codemirror_mode": {
        "name": "ipython",
        "version": 3
      },
      "file_extension": ".py",
      "mimetype": "text/x-python",
      "name": "python",
      "nbconvert_exporter": "python",
      "pygments_lexer": "ipython3",
      "version": "3.12.7"
    }
  },
  "nbformat": 4,
  "nbformat_minor": 0
}
